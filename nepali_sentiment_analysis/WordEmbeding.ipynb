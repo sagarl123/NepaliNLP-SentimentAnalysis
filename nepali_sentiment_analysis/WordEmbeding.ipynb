{
 "cells": [
  {
   "cell_type": "code",
   "execution_count": 2,
   "id": "1ce0c43d",
   "metadata": {},
   "outputs": [],
   "source": [
    "import torch\n",
    "import numpy as np \n",
    "import pandas as pd \n",
    "from transformers import BertTokenizer, BertModel, BertForMaskedLM, AutoTokenizer, AutoModelForMaskedLM\n",
    "from scipy.spatial.distance import cosine \n",
    "import tokenizers \n",
    "import pandas as pd \n",
    "from sklearn.model_selection import train_test_split, GridSearchCV\n",
    "from sklearn.metrics import classification_report, confusion_matrix, f1_score, accuracy_score\n",
    "from nltk.corpus import stopwords\n",
    "from sklearn.svm import SVC\n",
    "from sklearn.naive_bayes import GaussianNB\n",
    "from sklearn.ensemble import RandomForestClassifier, GradientBoostingClassifier\n",
    "from sklearn.decomposition import PCA\n",
    "from sklearn.preprocessing import StandardScaler\n",
    "import numpy\n",
    "import os \n",
    "import re\n",
    "import json\n",
    "import pickle"
   ]
  },
  {
   "cell_type": "code",
   "execution_count": 2,
   "id": "98daed37",
   "metadata": {},
   "outputs": [],
   "source": [
    "# vocab_path = os.getcwd()+'/bert_model/vocab_low_data.txt'\n",
    "# model_path = os.getcwd()+'/blabla/'"
   ]
  },
  {
   "cell_type": "code",
   "execution_count": 4,
   "id": "e86375ce",
   "metadata": {},
   "outputs": [],
   "source": [
    "# tokenizers = BertTokenizer.from_pretrained(vocab_path)\n",
    "# model = BertForMaskedLM.from_pretrained(pretrained_model_name_or_path=model_path, return_dict = True, output_hidden_states = True)"
   ]
  },
  {
   "cell_type": "code",
   "execution_count": 5,
   "id": "1b519b36",
   "metadata": {},
   "outputs": [],
   "source": [
    "model = AutoModelForMaskedLM.from_pretrained(\"Shushant/nepaliBERT\", output_hidden_states = True, return_dict = True, output_attentions = True)"
   ]
  },
  {
   "cell_type": "code",
   "execution_count": 6,
   "id": "7dc414c6",
   "metadata": {},
   "outputs": [],
   "source": [
    "tokenizers = AutoTokenizer.from_pretrained(\"Shushant/nepaliBERT\")"
   ]
  },
  {
   "cell_type": "code",
   "execution_count": 7,
   "id": "biblical-scale",
   "metadata": {},
   "outputs": [],
   "source": [
    "# pickle.dump(model,open('bert_model','wb'))\n",
    "# pickle.dump(tokenizers,open('tokenizers','wb'))\n"
   ]
  },
  {
   "cell_type": "code",
   "execution_count": 3,
   "id": "adopted-satin",
   "metadata": {},
   "outputs": [],
   "source": [
    "# model = pickle.load(open('bert_model','rb'))\n"
   ]
  },
  {
   "cell_type": "code",
   "execution_count": 4,
   "id": "worth-hybrid",
   "metadata": {},
   "outputs": [],
   "source": [
    "# tokenizers = pickle.load(open('tokenizers','rb'))"
   ]
  },
  {
   "cell_type": "code",
   "execution_count": 5,
   "id": "1871cd20",
   "metadata": {
    "scrolled": true
   },
   "outputs": [
    {
     "data": {
      "text/plain": [
       "['क',\n",
       " 'मौ',\n",
       " '##ज',\n",
       " '##दा',\n",
       " 'लोक',\n",
       " '##तान',\n",
       " '##तर',\n",
       " '##िक',\n",
       " 'वय',\n",
       " '##वस',\n",
       " '##था',\n",
       " 'राज',\n",
       " '##य',\n",
       " 'पन',\n",
       " '##ः',\n",
       " '##सर',\n",
       " '##चना',\n",
       " '##सग',\n",
       " 'जोडिएका',\n",
       " 'हिजोका',\n",
       " 'सवाल',\n",
       " '##हर',\n",
       " '##लाई',\n",
       " 'यथा',\n",
       " '##स',\n",
       " '##थिति',\n",
       " '##मा',\n",
       " 'छोड',\n",
       " '##र',\n",
       " 'सबल',\n",
       " 'होला',\n",
       " '?']"
      ]
     },
     "execution_count": 5,
     "metadata": {},
     "output_type": "execute_result"
    }
   ],
   "source": [
    "tokenizers.tokenize(\"के मौजुदा लोकतान्त्रिक व्यवस्था राज्य पुनःसंरचनासँग जोडिएका हिजोका सवालहरूलाई यथास्थितिमा छोडेर सबल होला?\")"
   ]
  },
  {
   "cell_type": "code",
   "execution_count": 11,
   "id": "00ca9f25",
   "metadata": {},
   "outputs": [],
   "source": [
    "# text = 'अनि तेस्रो चिन्ता मौसम परिवर्तनले हिमशिखरहरूमा परेका आघातसँगसँगै सिमानावारिपारि नदीले ल्याएका प्रकोपहरू कसरी सम्हाल्ने'\n",
    "# marked_text = \" [CLS] \"+text+\" [SEP] \"\n",
    "# tokenized_text = tokenizer.tokenize(marked_text)\n",
    "# indexed_tokens = tokenizer.convert_tokens_to_ids(tokenized_text)\n",
    "# segments_ids = [1] * len(indexed_tokens)\n",
    "\n",
    "# tokens_tensors = torch.tensor([indexed_tokens])\n",
    "# segments_tensors = torch.tensor([segments_ids])"
   ]
  },
  {
   "cell_type": "code",
   "execution_count": 53,
   "id": "88a853e8",
   "metadata": {},
   "outputs": [],
   "source": [
    "# with torch.no_grad():\n",
    "#     outputs = model(tokens_tensors, segments_tensors)\n",
    "#     hidden_states = outputs.hidden_states\n",
    "# #     print(hidden_states[-1])\n",
    "#     token_embeddings = hidden_states[-1]\n",
    "    \n",
    "#     token_embeddings = torch.squeeze(token_embeddings, dim = 0)\n",
    "    \n",
    "#     list_token_embeddings = [token_embed.tolist() for token_embed in token_embeddings]\n",
    "#     print(list_token_embeddings)"
   ]
  },
  {
   "cell_type": "code",
   "execution_count": null,
   "id": "6fc8c04e",
   "metadata": {},
   "outputs": [],
   "source": []
  },
  {
   "cell_type": "code",
   "execution_count": 13,
   "id": "06bc3947",
   "metadata": {},
   "outputs": [],
   "source": [
    "texts = ['तर','दुधमा तर बसेन|','तिम्रो घर आउन मन लाग्छ तर अल्छि लाग्छ']"
   ]
  },
  {
   "cell_type": "code",
   "execution_count": 14,
   "id": "5cd86297",
   "metadata": {},
   "outputs": [],
   "source": [
    "def bert_text_preparation(text, tokenizer ):\n",
    "    \"\"\"Preparing input for BERT\"\"\"\n",
    "    \n",
    "    marked_text = \" [CLS] \" + text + \" [SEP] \"\n",
    "    tokenized_text = tokenizer.tokenize(marked_text)\n",
    "    indexed_tokens = tokenizer.convert_tokens_to_ids(tokenized_text)\n",
    "    segments_ids = [1] * len(indexed_tokens) \n",
    "    \n",
    "    # Convert inputs to Pytorch tensors\n",
    "    tokens_tensors = torch.tensor([indexed_tokens])\n",
    "    segments_tensors = torch.tensor([segments_ids])\n",
    "    \n",
    "    return tokenized_text, tokens_tensors, segments_tensors"
   ]
  },
  {
   "cell_type": "code",
   "execution_count": 15,
   "id": "a70ff12b",
   "metadata": {},
   "outputs": [],
   "source": [
    "def get_bert_embeddings(tokens_tensor, segments_tensors, model):\n",
    "    # Gradient claculation id disabled \n",
    "    # Model is in inference mode\n",
    "    \n",
    "    with torch.no_grad():\n",
    "        outputs = model(tokens_tensor, segments_tensors)\n",
    "        # removing the first hidden state\n",
    "        # the first state is the input state \n",
    "        hidden_states = outputs.hidden_states\n",
    "    \n",
    "    # Getting embeddings from final Bert Layer\n",
    "    tokens_embeddings = hidden_states[-1]\n",
    "    # Collasping the tensor into 1-dimension \n",
    "    tokens_embeddings = torch.squeeze(tokens_embeddings, dim = 0)\n",
    "    # Converting torchtensors to lists \n",
    "    list_token_embeddings = [token_embed.tolist() for token_embed in tokens_embeddings]\n",
    "    \n",
    "    return list_token_embeddings "
   ]
  },
  {
   "cell_type": "code",
   "execution_count": 16,
   "id": "03d8c108",
   "metadata": {},
   "outputs": [],
   "source": [
    "# tokenized_text, tokens_tensors, segments_tensors = bert_text_preparation(text, tokenizer)\n",
    "# target_word_embeddings = []\n",
    "\n",
    "# for text in texts:\n",
    "#     tokenized_text, tokens_tensors, segments_tensors = bert_text_preparation(text, tokenizer)\n",
    "#     list_token_embeddings = get_bert_embeddings(tokens_tensors, segments_tensors, model)\n",
    "#     ## list_token_embeddings has embeddings of the given words\n",
    "# #     word_index = tokenized_text.index('तर')\n",
    "#     word_embeddings = [list_token_embeddings[token] for token in tokenized_text]\n",
    "# #     word_embedding = list_token_embeddings[word_index]\n",
    "# #     print(word_embedding)\n",
    "# #     target_word_embeddings.append(word_embedding)"
   ]
  },
  {
   "cell_type": "code",
   "execution_count": 17,
   "id": "a1afd4cc",
   "metadata": {},
   "outputs": [],
   "source": [
    "# tokenized_text"
   ]
  },
  {
   "cell_type": "code",
   "execution_count": 18,
   "id": "1caf3be4",
   "metadata": {},
   "outputs": [],
   "source": [
    "# type(tokenized_text[0])"
   ]
  },
  {
   "cell_type": "code",
   "execution_count": 19,
   "id": "9d4db1a5",
   "metadata": {
    "scrolled": false
   },
   "outputs": [],
   "source": [
    "target_word_embeddings = []\n",
    "\n",
    "for text in texts:\n",
    "    tokenized_text, tokens_tensors, segments_tensors = bert_text_preparation(text, tokenizers)\n",
    "    list_token_embeddings = get_bert_embeddings(tokens_tensors, segments_tensors, model)\n",
    "#     print(len(list_token_embeddings))\n",
    "    ## list_token_embeddings has embeddings of the given words\n",
    "    word_index = tokenized_text.index('तर')\n",
    "    word_embedding = list_token_embeddings[word_index]\n",
    "#     print(word_embedding)\n",
    "    target_word_embeddings.append(word_embedding)"
   ]
  },
  {
   "cell_type": "code",
   "execution_count": 20,
   "id": "9c79f53c",
   "metadata": {},
   "outputs": [
    {
     "data": {
      "text/plain": [
       "False"
      ]
     },
     "execution_count": 20,
     "metadata": {},
     "output_type": "execute_result"
    }
   ],
   "source": [
    "target_word_embeddings[0] == target_word_embeddings[1]"
   ]
  },
  {
   "cell_type": "code",
   "execution_count": null,
   "id": "eeb28025",
   "metadata": {},
   "outputs": [],
   "source": []
  },
  {
   "cell_type": "code",
   "execution_count": 21,
   "id": "0578cc53",
   "metadata": {},
   "outputs": [
    {
     "data": {
      "text/plain": [
       "3"
      ]
     },
     "execution_count": 21,
     "metadata": {},
     "output_type": "execute_result"
    }
   ],
   "source": [
    "len(target_word_embeddings)"
   ]
  },
  {
   "cell_type": "code",
   "execution_count": 22,
   "id": "e5144fea",
   "metadata": {},
   "outputs": [],
   "source": [
    "# list_of_distances = []\n",
    "# for text1, embed1 in zip(texts, target_word_embeddings):\n",
    "#     for text2, embed2 in zip(texts, target_word_embeddings):\n",
    "#         cos_dist = 1 - cosine(embed1,embed2)\n",
    "#         list_of_distances.append([text1, text2, cos_dist])\n",
    "\n",
    "\n",
    "# distances_df = pd.DataFrame(list_of_distances, columns = ['text1','text2','distance'])\n"
   ]
  },
  {
   "cell_type": "code",
   "execution_count": 6,
   "id": "07d31ba6",
   "metadata": {},
   "outputs": [],
   "source": [
    "# df = pd.read_csv(\"finalData.csv\")\n",
    "df = pd.read_csv('collected_labeled_data.csv')"
   ]
  },
  {
   "cell_type": "code",
   "execution_count": 13,
   "id": "3e273be6",
   "metadata": {},
   "outputs": [],
   "source": [
    "# df.drop(df.columns[-1],axis = 1, inplace = True)"
   ]
  },
  {
   "cell_type": "code",
   "execution_count": 14,
   "id": "fb546342",
   "metadata": {},
   "outputs": [
    {
     "data": {
      "text/plain": [
       "array([2, 1, 0], dtype=int64)"
      ]
     },
     "execution_count": 14,
     "metadata": {},
     "output_type": "execute_result"
    }
   ],
   "source": [
    "df['label'].unique()"
   ]
  },
  {
   "cell_type": "code",
   "execution_count": 15,
   "id": "048ef9d1",
   "metadata": {},
   "outputs": [],
   "source": [
    "# df.to_csv('collected_labeled_data.csv',index = False)"
   ]
  },
  {
   "cell_type": "code",
   "execution_count": null,
   "id": "a91654b3",
   "metadata": {},
   "outputs": [],
   "source": []
  },
  {
   "cell_type": "code",
   "execution_count": null,
   "id": "f6649f45",
   "metadata": {},
   "outputs": [],
   "source": []
  },
  {
   "cell_type": "code",
   "execution_count": 51,
   "id": "ff995c8c",
   "metadata": {},
   "outputs": [],
   "source": [
    "# train_X, test_X = train_test_split(df, test_size = 0.2)"
   ]
  },
  {
   "cell_type": "code",
   "execution_count": 52,
   "id": "012c49a5",
   "metadata": {},
   "outputs": [],
   "source": [
    "# train_X.to_csv('train.csv',index = False)\n",
    "# test_X.to_csv('test.csv',index = False)"
   ]
  },
  {
   "cell_type": "code",
   "execution_count": 53,
   "id": "6103b035",
   "metadata": {},
   "outputs": [],
   "source": [
    "def check_len(text):\n",
    "    txt = text.split(' ')[:20]\n",
    "    return ' '.join(txt)"
   ]
  },
  {
   "cell_type": "code",
   "execution_count": 52,
   "id": "b0aeeb8c",
   "metadata": {},
   "outputs": [],
   "source": [
    "# df['text'] = df['text'].apply(check_len)"
   ]
  },
  {
   "cell_type": "code",
   "execution_count": 55,
   "id": "57168ec5",
   "metadata": {},
   "outputs": [],
   "source": [
    "# def get_word_embeddings(text):\n",
    "#     tokenizer = tokenizers\n",
    "#     tokenized_text, tokens_tensors, segments_tensors = bert_text_preparation(text, tokenizer)\n",
    "#     list_token_embeddings = get_bert_embeddings(tokens_tensors, segments_tensors, model)\n",
    "#     ## list_token_embeddings has embeddings of the given words\n",
    "#     return list_token_embeddings"
   ]
  },
  {
   "cell_type": "code",
   "execution_count": 57,
   "id": "36144615",
   "metadata": {},
   "outputs": [],
   "source": [
    "stopwords= stopwords.words(\"nepali\")"
   ]
  },
  {
   "cell_type": "code",
   "execution_count": 46,
   "id": "2163997b",
   "metadata": {},
   "outputs": [],
   "source": [
    "words = ['अक्सर','आदि','कसरी','अन्तर्गत','अर्थात','अर्थात्','अलग','आयो','उदाहरण','एकदम','राम्रो','बिरुद्ध','बिशेष']"
   ]
  },
  {
   "cell_type": "code",
   "execution_count": 47,
   "id": "67268e98",
   "metadata": {},
   "outputs": [],
   "source": [
    "stopwords = list(set(stopwords).difference(set(words)))"
   ]
  },
  {
   "cell_type": "code",
   "execution_count": 48,
   "id": "af7b34a1",
   "metadata": {},
   "outputs": [],
   "source": [
    "def clean_text(text):\n",
    "    text = text.split(' ')\n",
    "    clean_text_list = []\n",
    "    for word in text:\n",
    "        if word not in stopwords:\n",
    "            clean_text_list.append(word)\n",
    "    clean_text = ' '.join(clean_text_list)\n",
    "    txt = re.sub(r\"[|a-zA-z.'#0-9@,:?'\\u200b\\u200c\\u200d!/&~-]\",'',clean_text)\n",
    "    \n",
    "    return txt"
   ]
  },
  {
   "cell_type": "code",
   "execution_count": 49,
   "id": "05ec9fd9",
   "metadata": {},
   "outputs": [
    {
     "data": {
      "text/plain": [
       "'घाम जति लग्यो हामीलाई तेती राम्रो '"
      ]
     },
     "execution_count": 49,
     "metadata": {},
     "output_type": "execute_result"
    }
   ],
   "source": [
    "clean_text(\"घाम जति लग्यो हामीलाई तेती राम्रो हुन्छ \")"
   ]
  },
  {
   "cell_type": "code",
   "execution_count": 15,
   "id": "61c1b1dd",
   "metadata": {},
   "outputs": [],
   "source": [
    "# df['text'] = df['text'].apply(clean_text)"
   ]
  },
  {
   "cell_type": "code",
   "execution_count": null,
   "id": "d3b2275f",
   "metadata": {},
   "outputs": [],
   "source": []
  },
  {
   "cell_type": "code",
   "execution_count": 16,
   "id": "ffb159d4",
   "metadata": {},
   "outputs": [],
   "source": [
    "# distances_df[distances_df.text1 == 'तर']"
   ]
  },
  {
   "cell_type": "code",
   "execution_count": 58,
   "id": "c3dd1093",
   "metadata": {},
   "outputs": [
    {
     "data": {
      "text/html": [
       "<div>\n",
       "<style scoped>\n",
       "    .dataframe tbody tr th:only-of-type {\n",
       "        vertical-align: middle;\n",
       "    }\n",
       "\n",
       "    .dataframe tbody tr th {\n",
       "        vertical-align: top;\n",
       "    }\n",
       "\n",
       "    .dataframe thead th {\n",
       "        text-align: right;\n",
       "    }\n",
       "</style>\n",
       "<table border=\"1\" class=\"dataframe\">\n",
       "  <thead>\n",
       "    <tr style=\"text-align: right;\">\n",
       "      <th></th>\n",
       "      <th>text</th>\n",
       "      <th>label</th>\n",
       "    </tr>\n",
       "  </thead>\n",
       "  <tbody>\n",
       "    <tr>\n",
       "      <th>0</th>\n",
       "      <td>बजार ले जसरी ट्रेन्ड चेन्ज गर्यो यो हेर्दा तत्...</td>\n",
       "      <td>2</td>\n",
       "    </tr>\n",
       "    <tr>\n",
       "      <th>1</th>\n",
       "      <td>1000 अंकले घटेको नेप्से 200 अंकले बढ्नु ठूलो क...</td>\n",
       "      <td>1</td>\n",
       "    </tr>\n",
       "    <tr>\n",
       "      <th>2</th>\n",
       "      <td>होइन यो सानिमा बैंक ले bonus घोसणा गरेको २ महि...</td>\n",
       "      <td>2</td>\n",
       "    </tr>\n",
       "    <tr>\n",
       "      <th>3</th>\n",
       "      <td>खैँ MBJC प्रति कित्तामा रू,10/-ले बढेर आज रू,1...</td>\n",
       "      <td>2</td>\n",
       "    </tr>\n",
       "    <tr>\n",
       "      <th>4</th>\n",
       "      <td>राम्रो भयो️️</td>\n",
       "      <td>1</td>\n",
       "    </tr>\n",
       "  </tbody>\n",
       "</table>\n",
       "</div>"
      ],
      "text/plain": [
       "                                                text  label\n",
       "0  बजार ले जसरी ट्रेन्ड चेन्ज गर्यो यो हेर्दा तत्...      2\n",
       "1  1000 अंकले घटेको नेप्से 200 अंकले बढ्नु ठूलो क...      1\n",
       "2  होइन यो सानिमा बैंक ले bonus घोसणा गरेको २ महि...      2\n",
       "3  खैँ MBJC प्रति कित्तामा रू,10/-ले बढेर आज रू,1...      2\n",
       "4                                       राम्रो भयो️️      1"
      ]
     },
     "execution_count": 58,
     "metadata": {},
     "output_type": "execute_result"
    }
   ],
   "source": [
    "df.head()"
   ]
  },
  {
   "cell_type": "code",
   "execution_count": 7,
   "id": "b76b3d7e",
   "metadata": {},
   "outputs": [],
   "source": [
    "def get_bert_embedding_sentence(input_sentence):\n",
    "    md = model\n",
    "    tokenizer = tokenizers\n",
    "    marked_text = \" [CLS] \" + input_sentence + \" [SEP] \"\n",
    "    tokenized_text = tokenizer.tokenize(marked_text)\n",
    "\n",
    "    indexed_tokens = tokenizer.convert_tokens_to_ids(tokenized_text)\n",
    "    segments_ids = [1] * len(indexed_tokens) \n",
    "    \n",
    "    # Convert inputs to Pytorch tensors\n",
    "    tokens_tensors = torch.tensor([indexed_tokens])\n",
    "    segments_tensors = torch.tensor([segments_ids])\n",
    "    \n",
    "    with torch.no_grad():\n",
    "        outputs = md(tokens_tensors, segments_tensors)\n",
    "        # removing the first hidden state\n",
    "        # the first state is the input state \n",
    "\n",
    "        hidden_states = outputs.hidden_states\n",
    "#         print(hidden_states[-2])\n",
    "        # second_hidden_states = outputs[2]\n",
    "    # hidden_states has shape [13 x 1 x 22 x 768]\n",
    "\n",
    "    # token_vecs is a tensor with shape [22 x 768]\n",
    "#     token_vecs = hidden_states[-2][0]\n",
    "    # get last four layers\n",
    "#     last_four_layers = [hidden_states[i] for i in (-1,-2, -3,-4)]\n",
    "\n",
    "\n",
    "    # cast layers to a tuple and concatenate over the last dimension\n",
    "#     cat_hidden_states = torch.cat(tuple(last_four_layers), dim=-1)\n",
    "#     print(cat_hidden_states.shape)\n",
    "    token_vecs = hidden_states[-2][0]\n",
    "\n",
    "    # take the mean of the concatenated vector over the token dimension\n",
    "#     sentence_embedding = torch.mean(cat_hidden_states, dim=0).squeeze()\n",
    "\n",
    "    # Calculate the average of all 22 token vectors.\n",
    "    sentence_embedding = torch.mean(token_vecs, dim=0)\n",
    "#     sentence_embedding = torch.mean(token_vecs, dim=1)\n",
    "    return sentence_embedding.numpy()"
   ]
  },
  {
   "cell_type": "code",
   "execution_count": 8,
   "id": "1da99701",
   "metadata": {},
   "outputs": [
    {
     "data": {
      "text/plain": [
       "array([ 2.91083171e-03,  2.76484221e-01,  4.30840701e-02,  2.34462023e-01,\n",
       "        1.93695650e-01,  8.08570236e-02,  1.67143255e-01, -1.21491820e-01,\n",
       "        1.98826805e-01, -2.85235792e-01,  8.43919590e-02,  4.07811016e-01,\n",
       "       -9.35231894e-02,  2.51754314e-01, -2.34685354e-02,  2.99455728e-02,\n",
       "        1.88694015e-01, -3.43165666e-01, -1.53445616e-01,  3.77470464e-01,\n",
       "        1.72779784e-01, -1.76885203e-01,  1.78813785e-01, -4.30221826e-01,\n",
       "        9.03602466e-02, -1.43045276e-01,  3.37989405e-02,  2.06438884e-01,\n",
       "        6.37542754e-02,  2.21104681e-01,  1.67193517e-01,  4.74679053e-01,\n",
       "        3.89956608e-02, -5.72416842e-01, -2.64643490e-01, -5.66417336e-01,\n",
       "        1.11003555e-01,  4.15074408e-01, -2.21883088e-01,  8.65613967e-02,\n",
       "        1.92128755e-02,  2.18923986e-01,  4.32191789e-01, -9.03057232e-02,\n",
       "        7.46855587e-02,  3.52693230e-01, -4.17815506e-01,  3.04982007e-01,\n",
       "       -2.55210251e-01,  1.57838210e-01, -3.86268824e-01, -1.11495960e+00,\n",
       "        3.70744109e-01, -1.76815405e-01,  9.34719387e-03,  1.14558019e-01,\n",
       "        2.06838459e-01, -3.16711396e-01,  7.27872491e-01, -1.67653143e-01,\n",
       "        5.10217473e-02,  2.03104630e-01, -1.56506330e-01,  7.19115436e-02,\n",
       "       -1.24085777e-01, -1.80124313e-01, -3.68820168e-02,  3.18035744e-02,\n",
       "        4.03403014e-01, -2.50723451e-01,  9.54799727e-02,  6.31835982e-02,\n",
       "       -1.80972651e-01, -7.60631338e-02, -1.51280150e-01,  5.14474630e-01,\n",
       "       -3.47770631e-01,  1.91024199e-01,  1.02181181e-01, -3.58028263e-01,\n",
       "       -4.53980342e-02,  4.74054039e-01, -3.98333445e-02,  1.38719767e-01,\n",
       "       -1.23045675e-01,  9.45869163e-02, -5.22483051e-01,  1.35249406e-01,\n",
       "        2.10429840e-02, -4.86733377e-01, -2.17338145e-01,  3.03277113e-02,\n",
       "       -2.57729828e-01,  4.44355845e-01,  3.07622403e-01, -6.42721727e-02,\n",
       "       -7.26339146e-02, -3.68624389e-01, -3.43769401e-01, -1.32120237e-01,\n",
       "       -2.00038105e-01,  3.43960226e-01, -3.00187051e-01, -3.15450788e-01,\n",
       "        2.51080960e-01,  1.75766945e-01,  6.73558235e-01, -3.75498146e-01,\n",
       "       -6.05829507e-02,  3.13690364e-01,  2.94815719e-01, -1.85645044e-01,\n",
       "        1.52948424e-01,  1.29318744e-01, -3.56353703e-03,  2.88073063e-01,\n",
       "        2.51204282e-01, -2.89420485e-02, -2.30614275e-01, -2.42932737e-01,\n",
       "        7.04584271e-02,  7.10297674e-02, -2.85553098e-01, -4.20217007e-01,\n",
       "        5.78824937e-01,  3.12243611e-01,  6.60300627e-02,  2.89417148e-01,\n",
       "       -6.87797135e-03,  8.95216092e-02, -6.69886544e-02, -1.53222740e-01,\n",
       "       -2.52321869e-01,  3.61971110e-01, -4.87712741e-01, -1.58856064e-01,\n",
       "        3.85423750e-02, -1.09324023e-01, -3.08731079e-01, -2.49727502e-01,\n",
       "        3.12050283e-01,  6.45388290e-02,  1.33441818e+00, -2.02936947e-01,\n",
       "        3.40576589e-01,  2.94993781e-02, -3.06797735e-02, -4.24145997e-01,\n",
       "       -2.54589856e-01,  8.27180296e-02, -2.48645335e-01,  2.39209309e-01,\n",
       "       -2.58551478e-01, -2.12678745e-01, -1.27913684e-01,  3.04437369e-01,\n",
       "        1.80273782e-02,  2.25854199e-02,  4.70949225e-02, -3.31096053e-01,\n",
       "        3.47491533e-01, -3.27402651e-01,  8.65083635e-02, -9.33737904e-02,\n",
       "       -3.38359892e-01, -1.47047609e-01, -1.73396826e-01, -3.55617404e-02,\n",
       "        2.83219993e-01,  3.85790855e-01, -3.43134224e-01, -7.87627622e-02,\n",
       "       -1.50649115e-01, -7.38424510e-02, -1.74685959e-02,  5.76970696e-01,\n",
       "        6.18961193e-02, -5.39494693e-01,  1.26624107e-01, -9.64001417e-01,\n",
       "       -5.77864349e-01, -7.45446801e-01,  5.20139873e-01, -7.79703200e-01,\n",
       "        4.58652139e-01,  5.71630836e-01,  5.45294620e-02, -9.89344865e-02,\n",
       "        5.09006023e-01,  3.88718694e-02, -5.47288135e-02, -3.81659836e-01,\n",
       "       -5.76326013e-01, -2.21461803e-01, -1.97136514e-02, -3.22615176e-01,\n",
       "        2.02350870e-01, -3.51494998e-01, -1.54801667e-01, -1.54418409e-01,\n",
       "       -2.61100437e-02, -1.61033407e-01, -1.29056707e-01, -2.38223851e-01,\n",
       "        2.10192055e-01,  3.24629039e-01,  5.52051127e-01, -7.65680730e-01,\n",
       "       -3.48701119e-01, -3.88874799e-01, -1.99301317e-01,  1.32551834e-01,\n",
       "        4.20194030e-01,  4.72347051e-01,  2.65596002e-01, -4.19800013e-01,\n",
       "       -1.08418480e-01, -1.47820488e-01, -5.56659400e-01, -7.11665392e-01,\n",
       "       -2.48772517e-01, -3.66813391e-01, -3.32717270e-01,  2.36727089e-01,\n",
       "       -4.68827188e-01, -3.50547165e-01, -1.50922567e-01,  2.35936090e-01,\n",
       "        1.50348485e-01, -5.42319752e-02,  2.31673032e-01, -5.10747910e-01,\n",
       "       -7.36630976e-01, -1.31866783e-01, -1.61897361e-01, -1.45951256e-01,\n",
       "       -4.56491619e-01,  5.05259037e-01, -2.50541836e-01,  1.68982670e-01,\n",
       "        2.60447592e-01, -8.39115456e-02, -4.26302925e-02,  4.64031249e-02,\n",
       "        1.32538855e-01, -5.94755590e-01,  4.51438457e-01,  1.23957783e-01,\n",
       "       -5.51436186e-01, -2.30344296e-01, -2.01907933e-01, -2.45936096e-01,\n",
       "       -1.89023823e-01,  1.74303934e-01, -1.14262380e-01, -5.17025232e-01,\n",
       "       -3.40770692e-01, -3.50894094e-01,  2.48952359e-01,  1.61179304e-01,\n",
       "        7.25113228e-02, -4.57082987e-02, -3.01797062e-01,  8.93390328e-02,\n",
       "       -1.78390637e-01, -2.01086655e-01, -1.10820696e-01, -9.72250700e-02,\n",
       "        4.77479488e-01, -1.65988103e-01, -9.78913680e-02, -2.01430574e-01,\n",
       "       -3.03387284e-01, -4.45339782e-03,  3.35824907e-01,  2.65448749e-01,\n",
       "        1.50278553e-01, -3.74944866e-01,  2.25644574e-01, -5.84436357e-01,\n",
       "       -4.74311769e-01, -2.62926906e-01,  1.45134419e-01,  4.18470711e-01,\n",
       "       -2.71357894e-01,  9.03851911e-02, -1.65069893e-01, -1.74288198e-01,\n",
       "       -3.84644568e-01,  9.42683592e-02,  2.10291132e-01, -2.23997608e-02,\n",
       "       -5.98498702e-01,  3.71387213e-01,  3.24433774e-01, -3.46764624e-01,\n",
       "        3.64829510e-01,  4.97179702e-02, -2.25145549e-01, -2.77519047e-01,\n",
       "       -4.24270153e-01,  3.74199063e-01,  1.30002275e-01, -5.05129658e-02,\n",
       "        6.70524716e-01, -3.02960604e-01,  3.25849056e-01, -1.37959421e-01,\n",
       "        1.61398426e-01,  2.23591313e-01, -1.33887604e-01,  1.83002263e-01,\n",
       "       -1.63928289e-02,  3.54795605e-01,  3.63367677e-01,  5.12701392e-01,\n",
       "        3.88325363e-01,  1.17686844e+00, -1.13069251e-01,  3.24526638e-01,\n",
       "        4.07831609e-01,  1.54221401e-01, -3.54399756e-02,  1.24223515e-01,\n",
       "        2.18917825e-03,  5.80989838e-01,  7.74480402e-01, -2.72987723e-01,\n",
       "        3.18943977e-01, -6.56294972e-02, -2.03143448e-01, -1.46935523e-01,\n",
       "        9.31161568e-02,  3.50384153e-02, -1.04732074e-01,  2.26291895e-01,\n",
       "        2.50975609e-01,  5.51232398e-01,  2.33122826e-01,  3.03118359e-02,\n",
       "        1.29743278e-01,  9.82220024e-02, -1.19944818e-01,  1.12392433e-01,\n",
       "        1.98908001e-01,  2.25094184e-01, -3.06212932e-01, -3.73719037e-01,\n",
       "       -3.75806034e-01,  3.02789271e-01,  7.49531314e-02,  1.36156052e-01,\n",
       "       -2.55259395e-01, -5.74652553e-01, -3.83224130e-01,  2.67164171e-01,\n",
       "       -6.74375653e-01, -5.18550500e-02,  2.30486318e-01, -7.92164281e-02,\n",
       "       -1.52993664e-01, -2.77702302e-01, -2.32485667e-01, -3.08489144e-01,\n",
       "       -1.64260313e-01,  4.47687596e-01, -4.80084538e-01, -4.22815502e-01,\n",
       "       -1.03795797e-01, -4.15076554e-01, -1.36418656e-01, -1.24314509e-01,\n",
       "        2.57019728e-01, -3.21393222e-01, -7.17965364e-02,  4.84809428e-01,\n",
       "       -1.07892513e+00, -4.26231354e-01, -1.44807950e-01,  4.70281869e-01,\n",
       "        8.20668042e-02, -1.49325848e-01, -9.09415931e-02,  2.37789369e+00,\n",
       "        2.47351572e-01, -5.05764246e-01, -3.28492790e-01, -3.01452696e-01,\n",
       "       -2.35393628e-01,  4.83183593e-01, -1.95924833e-01,  3.25164169e-01,\n",
       "       -1.21593267e-01,  3.30406308e-01, -3.60605270e-02,  2.08546175e-03,\n",
       "        1.62695631e-01,  1.94243178e-01, -1.67097270e-01, -2.61571705e-01,\n",
       "        1.96035400e-01, -1.86988622e-01, -2.32350780e-03,  1.23129144e-01,\n",
       "        6.27815276e-02,  6.13474846e-03,  1.33084357e-02, -2.14521229e-01,\n",
       "        3.83635968e-01,  1.03824742e-01,  3.09849262e-01, -2.08279777e+00,\n",
       "       -6.35364205e-02, -2.55964935e-01,  2.30785236e-01,  1.35717005e-01,\n",
       "       -4.13157009e-02,  4.74084588e-03, -6.90626383e-01, -4.21009392e-01,\n",
       "       -1.24534592e-01, -2.31086358e-01, -6.19160771e-01, -3.25722396e-01,\n",
       "        2.48424083e-01,  4.11390573e-01,  5.81088886e-02,  2.81211257e-01,\n",
       "       -4.28112507e-01, -1.28714636e-01, -3.35310787e-01, -1.97499499e-01,\n",
       "       -2.27824792e-01,  1.56893328e-01,  2.36175597e-01,  6.04664087e-01,\n",
       "       -1.64479047e-01, -3.83987129e-01, -3.04603130e-01, -9.44750607e-02,\n",
       "       -4.09028381e-01,  1.80330917e-01,  1.23388106e-02, -2.79171795e-01,\n",
       "       -1.02139883e-01,  2.83412576e-01, -3.41062993e-01,  2.84106612e-01,\n",
       "        1.09821064e-02,  5.19803315e-02,  5.08400261e-01,  2.08981350e-01,\n",
       "        5.38730681e-01,  6.31042793e-02, -2.79032588e-01,  3.92779231e-01,\n",
       "       -6.98964894e-02, -2.25921020e-01, -1.84778035e-01,  8.99894759e-02,\n",
       "        7.82010034e-02,  2.02745050e-01,  5.40082827e-02, -2.00574890e-01,\n",
       "       -1.93781957e-01,  1.01529449e-01,  1.52106881e-01,  3.42032790e-01,\n",
       "        8.00855979e-02, -5.20897031e-01,  2.61886150e-01,  2.84378171e-01,\n",
       "        3.00981164e-01, -2.61905611e-01,  7.05910847e-02,  9.49300602e-02,\n",
       "       -1.33083254e-01, -3.55671197e-01, -3.93307209e-03, -2.51661837e-01,\n",
       "       -2.19390541e-01,  2.17288151e-01,  3.46126705e-01, -2.05627143e-01,\n",
       "       -8.48542377e-02,  6.09317660e-01, -1.38504520e-01, -5.31937242e-01,\n",
       "        3.06211591e-01,  5.07692039e-01, -3.20935428e-01, -5.10464132e-01,\n",
       "       -2.95941204e-01, -1.94798559e-01, -2.79089481e-01, -9.82594863e-02,\n",
       "        1.05434820e-01, -5.59554361e-02,  7.77168572e-02, -8.71482398e-03,\n",
       "        1.17959343e-01, -5.39121367e-02,  2.76033610e-01, -5.01356721e-01,\n",
       "        1.49595246e-01,  1.49281874e-01, -2.18701228e-01, -4.76512015e-01,\n",
       "       -3.49407196e-01,  1.15558915e-01,  8.31796750e-02,  1.44398063e-01,\n",
       "        8.55732337e-02, -4.37459111e-01, -5.71024179e-01, -2.95010597e-01,\n",
       "        1.42548541e-02,  2.89205372e-01, -1.06392398e-01,  4.96828288e-01,\n",
       "        2.51470864e-01,  7.27049634e-02,  1.98577568e-01,  3.25336665e-01,\n",
       "        2.51278937e-01,  2.83519089e-01,  9.57209431e-03, -6.60145842e-03,\n",
       "       -7.22276792e-02, -1.65949121e-01,  1.99591771e-01, -1.06724009e-01,\n",
       "       -1.62436515e-01,  4.21139359e-01, -2.02997029e-01,  3.66770059e-01,\n",
       "        1.34431189e-02, -3.14861298e-01, -2.61401504e-01, -4.72129047e-01,\n",
       "       -3.42554413e-02,  2.43158966e-01,  5.95482707e-01, -2.37129867e-01,\n",
       "        1.01577565e-01, -4.31655139e-01,  6.33530200e-01,  9.23901126e-02,\n",
       "        2.80266553e-01, -2.25043505e-01,  4.32547688e-01,  9.70037803e-02,\n",
       "       -2.36767456e-01, -2.09405735e-01,  2.30049878e-01, -1.45145670e-01,\n",
       "        1.61231503e-01, -3.55364382e-01, -6.82239085e-02, -5.69042921e-01,\n",
       "       -1.44666016e-01,  9.51835066e-02,  3.17493308e-04, -2.75568426e-01,\n",
       "       -3.51205170e-01, -1.34557590e-01, -1.55513972e-01,  5.41721210e-02,\n",
       "        1.71721876e-01, -2.74606138e-01, -2.46562347e-01,  2.06200704e-01,\n",
       "        4.52829719e-01, -4.59598266e-02, -2.21996531e-01, -1.24670796e-01,\n",
       "       -2.06880003e-01, -4.64516729e-02, -1.15038350e-01,  2.22242147e-01,\n",
       "        2.56855756e-01, -8.84571224e-02, -1.75446451e-01, -2.13717259e-02,\n",
       "        1.32500246e-01, -9.39307138e-02, -5.62381931e-02, -2.69811712e-02,\n",
       "       -2.73179024e-01,  5.87992929e-03, -3.16854835e-01, -1.48489699e-01,\n",
       "        4.93003368e-01, -4.47635017e-02, -2.52034575e-01, -6.39282465e-02,\n",
       "        1.38241664e-01,  2.86798835e-01, -1.32104929e-03,  4.98732865e-01,\n",
       "       -2.27561657e-04, -3.65513533e-01, -9.38266441e-02,  3.51338267e-01,\n",
       "        8.84408802e-02, -1.60711125e-01, -2.23202026e-03,  1.09779842e-01,\n",
       "        2.51193680e-02,  4.21582520e-01, -1.31565049e-01,  9.37591642e-02,\n",
       "        2.99348626e-02, -1.50183424e-01,  2.84725219e-01, -4.34360445e-01,\n",
       "        5.66718914e-02,  3.46904248e-01, -5.34146547e-01,  1.78508550e-01,\n",
       "        2.10937895e-02, -3.25440049e-01, -8.17520991e-02,  1.02967164e-02,\n",
       "        1.83501422e-01, -1.78176582e-01, -2.33037457e-01,  3.74381512e-01,\n",
       "        1.17945194e-01,  1.62743509e-01,  3.63565311e-02,  3.39839041e-01,\n",
       "        1.56694710e-01, -4.21506613e-01,  5.36488071e-02, -4.14854102e-02,\n",
       "        4.88819703e-02,  2.35816509e-01,  2.53848255e-01,  4.36825939e-02,\n",
       "        4.35991615e-01,  6.25410527e-02,  2.74116918e-02,  4.54679132e-02,\n",
       "       -6.53874159e-01, -2.43043393e-01, -1.77125245e-01,  2.21067637e-01,\n",
       "        9.67154950e-02, -3.90872657e-01,  4.00875986e-01, -2.16227435e-02,\n",
       "        3.38990629e-01,  2.15466186e-01,  3.94906476e-02,  3.42751682e-01,\n",
       "       -2.82876104e-01,  3.32992584e-01,  4.17782933e-01,  9.38047916e-02,\n",
       "       -2.46094912e-01, -1.18638918e-01,  7.81537667e-02, -4.39021796e-01,\n",
       "       -3.62325758e-02, -3.66913468e-01,  3.75909626e-01,  2.81343579e-01,\n",
       "       -2.81562358e-01,  2.50434041e-01,  7.54270107e-02, -3.47617477e-01,\n",
       "       -4.32141513e-01, -1.21246940e-02,  5.05248666e-01,  1.47162348e-01,\n",
       "       -4.82290946e-02, -3.19835603e-01, -3.31550747e-01, -1.66307941e-01,\n",
       "        3.68739605e-01,  5.89804053e-01,  2.22662359e-01,  3.06153804e-01,\n",
       "        2.45160326e-01,  2.54573107e-01,  3.27645570e-01, -4.76284176e-01,\n",
       "       -1.57932892e-01,  7.62648731e-02,  3.21276486e-01,  7.36704096e-02,\n",
       "       -6.40631989e-02,  5.85404336e-01,  9.89805013e-02,  2.34496519e-01,\n",
       "       -3.40893149e-01,  6.61905929e-02,  2.62250602e-01, -1.41086757e-01,\n",
       "       -9.05957162e-01, -1.34266108e-01,  8.99607092e-02,  2.86774963e-01,\n",
       "        4.44957435e-01, -5.84431589e-01,  2.43837118e-01, -4.44107711e-01,\n",
       "       -6.84090983e-03, -1.35110646e-01,  2.21488714e-01,  4.67467457e-01,\n",
       "        3.46444607e-01, -3.78950804e-01,  4.20760848e-02, -6.53922617e-01,\n",
       "        1.27964869e-01,  4.70195353e-01,  2.12090254e-01, -9.19298604e-02,\n",
       "        1.53638255e-02, -7.02858627e-01, -1.31328270e-01, -1.17914997e-01,\n",
       "        5.04822552e-01, -4.59251523e-01, -9.07916948e-02,  5.04760146e-01,\n",
       "       -5.72812915e-01,  1.47812068e-01,  1.45144790e-01, -9.68278199e-02,\n",
       "        3.98417979e-01,  3.31187874e-01, -2.26703674e-01, -7.22697079e-02,\n",
       "       -9.05807838e-02,  3.34984399e-02, -3.63273695e-02,  2.98166037e-01,\n",
       "        1.99655667e-01, -1.31166846e-01,  1.76362962e-01, -6.71847105e-01,\n",
       "       -6.76337957e-01,  6.67163953e-02,  6.90661132e-01,  4.49556932e-02,\n",
       "       -2.03058466e-01,  3.38500857e-01,  3.51710290e-01,  2.27445507e+00,\n",
       "        2.76499599e-01,  5.11546321e-02, -2.03331813e-01, -1.80938378e-01,\n",
       "       -4.67045724e-01,  1.61766663e-01, -2.06548288e-01,  5.91794789e-01,\n",
       "        3.32719922e-01, -1.64753813e-02, -8.62651989e-02,  6.03039503e-01,\n",
       "        8.91062841e-02,  3.36643845e-01, -6.52901903e-02, -3.67760628e-01],\n",
       "      dtype=float32)"
      ]
     },
     "execution_count": 8,
     "metadata": {},
     "output_type": "execute_result"
    }
   ],
   "source": [
    "get_bert_embedding_sentence(\"नेपाल को ससकृती ध्वस्त पार्ने योजना\")"
   ]
  },
  {
   "cell_type": "code",
   "execution_count": 18,
   "id": "d08f787c",
   "metadata": {},
   "outputs": [],
   "source": [
    "df=df.drop(df[df['label']==2].index)"
   ]
  },
  {
   "cell_type": "code",
   "execution_count": 19,
   "id": "9c8990f7",
   "metadata": {},
   "outputs": [],
   "source": [
    "df.dropna(inplace = True)"
   ]
  },
  {
   "cell_type": "code",
   "execution_count": 20,
   "id": "ba7e75a3",
   "metadata": {},
   "outputs": [],
   "source": [
    "df['word_embeddings'] = df['text'].apply(get_bert_embedding_sentence)"
   ]
  },
  {
   "cell_type": "code",
   "execution_count": 21,
   "id": "edad3099",
   "metadata": {},
   "outputs": [
    {
     "data": {
      "text/html": [
       "<div>\n",
       "<style scoped>\n",
       "    .dataframe tbody tr th:only-of-type {\n",
       "        vertical-align: middle;\n",
       "    }\n",
       "\n",
       "    .dataframe tbody tr th {\n",
       "        vertical-align: top;\n",
       "    }\n",
       "\n",
       "    .dataframe thead th {\n",
       "        text-align: right;\n",
       "    }\n",
       "</style>\n",
       "<table border=\"1\" class=\"dataframe\">\n",
       "  <thead>\n",
       "    <tr style=\"text-align: right;\">\n",
       "      <th></th>\n",
       "      <th>text</th>\n",
       "      <th>label</th>\n",
       "      <th>word_embeddings</th>\n",
       "    </tr>\n",
       "  </thead>\n",
       "  <tbody>\n",
       "    <tr>\n",
       "      <th>1</th>\n",
       "      <td>1000 अंकले घटेको नेप्से 200 अंकले बढ्नु ठूलो क...</td>\n",
       "      <td>1</td>\n",
       "      <td>[-0.261957, 0.5387599, -0.16427921, 0.2529497,...</td>\n",
       "    </tr>\n",
       "    <tr>\n",
       "      <th>4</th>\n",
       "      <td>राम्रो भयो️️</td>\n",
       "      <td>1</td>\n",
       "      <td>[-0.30638534, 0.95327806, -0.38146958, 0.54328...</td>\n",
       "    </tr>\n",
       "    <tr>\n",
       "      <th>6</th>\n",
       "      <td>जानकारीको लागि धन्यवाद रामहरी ब्रदर</td>\n",
       "      <td>1</td>\n",
       "      <td>[0.317741, 0.65826416, -0.12128323, 0.06808527...</td>\n",
       "    </tr>\n",
       "    <tr>\n",
       "      <th>18</th>\n",
       "      <td>भारत-मधेस र नेपाल-चीन सम्बन्ध विग्रन्छ, मधेसी ...</td>\n",
       "      <td>0</td>\n",
       "      <td>[0.15587386, 0.6471652, -0.13978036, -0.099823...</td>\n",
       "    </tr>\n",
       "    <tr>\n",
       "      <th>25</th>\n",
       "      <td>लेखनाथ न्यौपानेको खुलासा,महाधिबेशनमा एमसीसीको ...</td>\n",
       "      <td>0</td>\n",
       "      <td>[-0.140361, 0.88074034, 0.05382303, 0.11658585...</td>\n",
       "    </tr>\n",
       "  </tbody>\n",
       "</table>\n",
       "</div>"
      ],
      "text/plain": [
       "                                                 text  label  \\\n",
       "1   1000 अंकले घटेको नेप्से 200 अंकले बढ्नु ठूलो क...      1   \n",
       "4                                        राम्रो भयो️️      1   \n",
       "6                 जानकारीको लागि धन्यवाद रामहरी ब्रदर      1   \n",
       "18  भारत-मधेस र नेपाल-चीन सम्बन्ध विग्रन्छ, मधेसी ...      0   \n",
       "25  लेखनाथ न्यौपानेको खुलासा,महाधिबेशनमा एमसीसीको ...      0   \n",
       "\n",
       "                                      word_embeddings  \n",
       "1   [-0.261957, 0.5387599, -0.16427921, 0.2529497,...  \n",
       "4   [-0.30638534, 0.95327806, -0.38146958, 0.54328...  \n",
       "6   [0.317741, 0.65826416, -0.12128323, 0.06808527...  \n",
       "18  [0.15587386, 0.6471652, -0.13978036, -0.099823...  \n",
       "25  [-0.140361, 0.88074034, 0.05382303, 0.11658585...  "
      ]
     },
     "execution_count": 21,
     "metadata": {},
     "output_type": "execute_result"
    }
   ],
   "source": [
    "df.head()"
   ]
  },
  {
   "cell_type": "code",
   "execution_count": 14,
   "id": "bc3840ee",
   "metadata": {},
   "outputs": [],
   "source": [
    "# df.to_csv('embedding_data.csv',index = False)"
   ]
  },
  {
   "cell_type": "code",
   "execution_count": null,
   "id": "2e0100e5",
   "metadata": {},
   "outputs": [],
   "source": []
  },
  {
   "cell_type": "code",
   "execution_count": 22,
   "id": "2da7b924",
   "metadata": {},
   "outputs": [],
   "source": [
    "X,y = df['word_embeddings'], df['label']"
   ]
  },
  {
   "cell_type": "code",
   "execution_count": 23,
   "id": "6bc72bb6",
   "metadata": {},
   "outputs": [],
   "source": [
    "# scaler = StandardScaler()\n",
    "# pca = PCA(n_components = 768)"
   ]
  },
  {
   "cell_type": "code",
   "execution_count": 24,
   "id": "99ad87ec",
   "metadata": {},
   "outputs": [],
   "source": [
    "# scaled_X = scaler.fit_transform(X.tolist())\n",
    "# pca_X = pca.fit_transform(scaled_X)"
   ]
  },
  {
   "cell_type": "code",
   "execution_count": 25,
   "id": "9689b1a4",
   "metadata": {},
   "outputs": [],
   "source": [
    "train_X, test_X, train_y, test_y = train_test_split(X,y, test_size = 0.2, random_state = 420)"
   ]
  },
  {
   "cell_type": "code",
   "execution_count": 26,
   "id": "828e1a7a",
   "metadata": {},
   "outputs": [],
   "source": [
    "svc = SVC()"
   ]
  },
  {
   "cell_type": "code",
   "execution_count": 27,
   "id": "d6524c9d",
   "metadata": {},
   "outputs": [],
   "source": [
    "# train_X = [i[0] for i in train_X]\n",
    "# test_X = [i[0] for i in test_X]"
   ]
  },
  {
   "cell_type": "code",
   "execution_count": 28,
   "id": "f8311883",
   "metadata": {},
   "outputs": [],
   "source": [
    "# train_X[0][0].shape"
   ]
  },
  {
   "cell_type": "code",
   "execution_count": 29,
   "id": "2af91c5f",
   "metadata": {},
   "outputs": [
    {
     "data": {
      "text/plain": [
       "SVC()"
      ]
     },
     "execution_count": 29,
     "metadata": {},
     "output_type": "execute_result"
    }
   ],
   "source": [
    "svc.fit(train_X.tolist(), train_y)\n",
    "#svc.fit(train_X, train_y)"
   ]
  },
  {
   "cell_type": "code",
   "execution_count": 30,
   "id": "16d5e606",
   "metadata": {},
   "outputs": [],
   "source": [
    "svc_pred = svc.predict(test_X.tolist())\n",
    "# svc_pred = svc.predict(test_X)"
   ]
  },
  {
   "cell_type": "code",
   "execution_count": 31,
   "id": "fdd814fe",
   "metadata": {},
   "outputs": [
    {
     "name": "stdout",
     "output_type": "stream",
     "text": [
      "[[406  70]\n",
      " [ 84 652]]\n"
     ]
    }
   ],
   "source": [
    "print(confusion_matrix(test_y, svc_pred))"
   ]
  },
  {
   "cell_type": "code",
   "execution_count": 32,
   "id": "c87a1d85",
   "metadata": {},
   "outputs": [
    {
     "name": "stdout",
     "output_type": "stream",
     "text": [
      "              precision    recall  f1-score   support\n",
      "\n",
      "           0       0.83      0.85      0.84       476\n",
      "           1       0.90      0.89      0.89       736\n",
      "\n",
      "    accuracy                           0.87      1212\n",
      "   macro avg       0.87      0.87      0.87      1212\n",
      "weighted avg       0.87      0.87      0.87      1212\n",
      "\n"
     ]
    }
   ],
   "source": [
    "print(classification_report(test_y, svc_pred))"
   ]
  },
  {
   "cell_type": "code",
   "execution_count": 33,
   "id": "78fe89bc",
   "metadata": {},
   "outputs": [
    {
     "data": {
      "text/plain": [
       "0.8729372937293729"
      ]
     },
     "execution_count": 33,
     "metadata": {},
     "output_type": "execute_result"
    }
   ],
   "source": [
    "accuracy_score(test_y, svc_pred)"
   ]
  },
  {
   "cell_type": "code",
   "execution_count": 40,
   "id": "87c34455",
   "metadata": {},
   "outputs": [
    {
     "data": {
      "text/plain": [
       "0.8943758573388204"
      ]
     },
     "execution_count": 40,
     "metadata": {},
     "output_type": "execute_result"
    }
   ],
   "source": [
    "f1_score(test_y, svc_pred)"
   ]
  },
  {
   "cell_type": "code",
   "execution_count": 53,
   "id": "vulnerable-scratch",
   "metadata": {},
   "outputs": [
    {
     "data": {
      "text/plain": [
       "array([0], dtype=int64)"
      ]
     },
     "execution_count": 53,
     "metadata": {},
     "output_type": "execute_result"
    }
   ],
   "source": [
    "svc.predict(np.array(get_bert_embedding_sentence(\"नराम्रो कुरा नगरेकै बेश\").tolist()).reshape(1,-1))"
   ]
  },
  {
   "cell_type": "code",
   "execution_count": 54,
   "id": "dirty-sheffield",
   "metadata": {},
   "outputs": [
    {
     "data": {
      "text/plain": [
       "array([1], dtype=int64)"
      ]
     },
     "execution_count": 54,
     "metadata": {},
     "output_type": "execute_result"
    }
   ],
   "source": [
    "svc.predict(np.array(get_bert_embedding_sentence(\"मलाई पढ्न मनपर्छ\").tolist()).reshape(1,-1))"
   ]
  },
  {
   "cell_type": "code",
   "execution_count": 46,
   "id": "authentic-aircraft",
   "metadata": {},
   "outputs": [
    {
     "data": {
      "text/html": [
       "<div>\n",
       "<style scoped>\n",
       "    .dataframe tbody tr th:only-of-type {\n",
       "        vertical-align: middle;\n",
       "    }\n",
       "\n",
       "    .dataframe tbody tr th {\n",
       "        vertical-align: top;\n",
       "    }\n",
       "\n",
       "    .dataframe thead th {\n",
       "        text-align: right;\n",
       "    }\n",
       "</style>\n",
       "<table border=\"1\" class=\"dataframe\">\n",
       "  <thead>\n",
       "    <tr style=\"text-align: right;\">\n",
       "      <th></th>\n",
       "      <th>text</th>\n",
       "      <th>label</th>\n",
       "      <th>word_embeddings</th>\n",
       "    </tr>\n",
       "  </thead>\n",
       "  <tbody>\n",
       "    <tr>\n",
       "      <th>1</th>\n",
       "      <td>1000 अंकले घटेको नेप्से 200 अंकले बढ्नु ठूलो क...</td>\n",
       "      <td>1</td>\n",
       "      <td>[-0.261957, 0.5387599, -0.16427921, 0.2529497,...</td>\n",
       "    </tr>\n",
       "    <tr>\n",
       "      <th>4</th>\n",
       "      <td>राम्रो भयो️️</td>\n",
       "      <td>1</td>\n",
       "      <td>[-0.30638534, 0.95327806, -0.38146958, 0.54328...</td>\n",
       "    </tr>\n",
       "    <tr>\n",
       "      <th>6</th>\n",
       "      <td>जानकारीको लागि धन्यवाद रामहरी ब्रदर</td>\n",
       "      <td>1</td>\n",
       "      <td>[0.317741, 0.65826416, -0.12128323, 0.06808527...</td>\n",
       "    </tr>\n",
       "    <tr>\n",
       "      <th>18</th>\n",
       "      <td>भारत-मधेस र नेपाल-चीन सम्बन्ध विग्रन्छ, मधेसी ...</td>\n",
       "      <td>0</td>\n",
       "      <td>[0.15587386, 0.6471652, -0.13978036, -0.099823...</td>\n",
       "    </tr>\n",
       "    <tr>\n",
       "      <th>25</th>\n",
       "      <td>लेखनाथ न्यौपानेको खुलासा,महाधिबेशनमा एमसीसीको ...</td>\n",
       "      <td>0</td>\n",
       "      <td>[-0.140361, 0.88074034, 0.05382303, 0.11658585...</td>\n",
       "    </tr>\n",
       "  </tbody>\n",
       "</table>\n",
       "</div>"
      ],
      "text/plain": [
       "                                                 text  label  \\\n",
       "1   1000 अंकले घटेको नेप्से 200 अंकले बढ्नु ठूलो क...      1   \n",
       "4                                        राम्रो भयो️️      1   \n",
       "6                 जानकारीको लागि धन्यवाद रामहरी ब्रदर      1   \n",
       "18  भारत-मधेस र नेपाल-चीन सम्बन्ध विग्रन्छ, मधेसी ...      0   \n",
       "25  लेखनाथ न्यौपानेको खुलासा,महाधिबेशनमा एमसीसीको ...      0   \n",
       "\n",
       "                                      word_embeddings  \n",
       "1   [-0.261957, 0.5387599, -0.16427921, 0.2529497,...  \n",
       "4   [-0.30638534, 0.95327806, -0.38146958, 0.54328...  \n",
       "6   [0.317741, 0.65826416, -0.12128323, 0.06808527...  \n",
       "18  [0.15587386, 0.6471652, -0.13978036, -0.099823...  \n",
       "25  [-0.140361, 0.88074034, 0.05382303, 0.11658585...  "
      ]
     },
     "execution_count": 46,
     "metadata": {},
     "output_type": "execute_result"
    }
   ],
   "source": [
    "df.head()"
   ]
  },
  {
   "cell_type": "code",
   "execution_count": 42,
   "id": "00640092",
   "metadata": {},
   "outputs": [],
   "source": [
    "# import pickle \n",
    "# pickle.dump(svc,open('svc_sentiment','wb'))"
   ]
  },
  {
   "cell_type": "code",
   "execution_count": 43,
   "id": "cdc460bd",
   "metadata": {},
   "outputs": [],
   "source": [
    "svc_sentiment = pickle.load(open('svc_sentiment','rb'))"
   ]
  },
  {
   "cell_type": "code",
   "execution_count": 45,
   "id": "b857e2b1",
   "metadata": {},
   "outputs": [
    {
     "data": {
      "text/plain": [
       "array([1, 1, 0, ..., 0, 1, 0])"
      ]
     },
     "execution_count": 45,
     "metadata": {},
     "output_type": "execute_result"
    }
   ],
   "source": [
    "# svc_sentiment.predict(test_X.tolist())"
   ]
  },
  {
   "cell_type": "code",
   "execution_count": 49,
   "id": "cac82981",
   "metadata": {},
   "outputs": [],
   "source": [
    "nb = GaussianNB()"
   ]
  },
  {
   "cell_type": "code",
   "execution_count": 50,
   "id": "e6c1420d",
   "metadata": {},
   "outputs": [
    {
     "data": {
      "text/plain": [
       "GaussianNB()"
      ]
     },
     "execution_count": 50,
     "metadata": {},
     "output_type": "execute_result"
    }
   ],
   "source": [
    "nb.fit(train_X.tolist(), train_y)\n",
    "# nb.fit(train_X, train_y)"
   ]
  },
  {
   "cell_type": "code",
   "execution_count": 51,
   "id": "9c7407ba",
   "metadata": {},
   "outputs": [],
   "source": [
    "nb_pred = nb.predict(test_X.tolist())\n",
    "# nb_pred = nb.predict(test_X)"
   ]
  },
  {
   "cell_type": "code",
   "execution_count": 52,
   "id": "885049d5",
   "metadata": {},
   "outputs": [
    {
     "name": "stdout",
     "output_type": "stream",
     "text": [
      "[[518 111]\n",
      " [277 303]]\n"
     ]
    }
   ],
   "source": [
    "print(confusion_matrix(test_y, nb_pred))"
   ]
  },
  {
   "cell_type": "code",
   "execution_count": 53,
   "id": "7a1c4b22",
   "metadata": {},
   "outputs": [
    {
     "name": "stdout",
     "output_type": "stream",
     "text": [
      "              precision    recall  f1-score   support\n",
      "\n",
      "           0       0.65      0.82      0.73       629\n",
      "           1       0.73      0.52      0.61       580\n",
      "\n",
      "    accuracy                           0.68      1209\n",
      "   macro avg       0.69      0.67      0.67      1209\n",
      "weighted avg       0.69      0.68      0.67      1209\n",
      "\n"
     ]
    }
   ],
   "source": [
    "print(classification_report(test_y, nb_pred))"
   ]
  },
  {
   "cell_type": "code",
   "execution_count": 54,
   "id": "c06ac796",
   "metadata": {},
   "outputs": [
    {
     "data": {
      "text/plain": [
       "0.6790736145574855"
      ]
     },
     "execution_count": 54,
     "metadata": {},
     "output_type": "execute_result"
    }
   ],
   "source": [
    "accuracy_score(test_y, nb_pred)"
   ]
  },
  {
   "cell_type": "code",
   "execution_count": 35,
   "id": "85ef7d06",
   "metadata": {},
   "outputs": [
    {
     "data": {
      "text/plain": [
       "array([1], dtype=int64)"
      ]
     },
     "execution_count": 35,
     "metadata": {},
     "output_type": "execute_result"
    }
   ],
   "source": [
    "svc.predict(np.array(get_bert_embedding_sentence(\"नराम्रो\").tolist()).reshape(1,-1))"
   ]
  },
  {
   "cell_type": "code",
   "execution_count": 39,
   "id": "3a89dffe",
   "metadata": {},
   "outputs": [
    {
     "data": {
      "text/plain": [
       "array([1], dtype=int64)"
      ]
     },
     "execution_count": 39,
     "metadata": {},
     "output_type": "execute_result"
    }
   ],
   "source": [
    "svc.predict(np.array(get_bert_embedding_sentence(\"कति राम्री केटि हो\").tolist()).reshape(1,-1))"
   ]
  },
  {
   "cell_type": "code",
   "execution_count": 12,
   "id": "a2bc1d18",
   "metadata": {},
   "outputs": [],
   "source": [
    "rfc = RandomForestClassifier()"
   ]
  },
  {
   "cell_type": "code",
   "execution_count": 13,
   "id": "norwegian-program",
   "metadata": {},
   "outputs": [],
   "source": [
    "n_estimators = [100,200,300,400]\n",
    "max_features = ['auto','sqrt']\n",
    "max_depth = [5,10,20,40,50]\n",
    "min_samples_split = [2,5,10,20]\n",
    "min_samples_leaf = [1,2,4,5]\n",
    "bootstrap = [True, False]"
   ]
  },
  {
   "cell_type": "code",
   "execution_count": 14,
   "id": "characteristic-rapid",
   "metadata": {},
   "outputs": [],
   "source": [
    "random_grid = {\n",
    "    'n_estimators':n_estimators,\n",
    "    'max_features': max_features,\n",
    "    'max_depth': max_depth,\n",
    "    'min_samples_split': min_samples_split,\n",
    "    'min_samples_leaf': min_samples_leaf,\n",
    "    'bootstrap': bootstrap\n",
    "}"
   ]
  },
  {
   "cell_type": "code",
   "execution_count": 15,
   "id": "super-obligation",
   "metadata": {},
   "outputs": [],
   "source": [
    "cv_rfc = GridSearchCV(estimator = rfc, param_grid = random_grid, cv =5)"
   ]
  },
  {
   "cell_type": "code",
   "execution_count": 16,
   "id": "unavailable-taiwan",
   "metadata": {},
   "outputs": [
    {
     "data": {
      "text/plain": [
       "GridSearchCV(cv=5, estimator=RandomForestClassifier(),\n",
       "             param_grid={'bootstrap': [True, False],\n",
       "                         'max_depth': [5, 10, 20, 40, 50],\n",
       "                         'max_features': ['auto', 'sqrt'],\n",
       "                         'min_samples_leaf': [1, 2, 4, 5],\n",
       "                         'min_samples_split': [2, 5, 10, 20],\n",
       "                         'n_estimators': [100, 200, 300, 400]})"
      ]
     },
     "execution_count": 16,
     "metadata": {},
     "output_type": "execute_result"
    }
   ],
   "source": [
    "cv_rfc"
   ]
  },
  {
   "cell_type": "code",
   "execution_count": 17,
   "id": "subsequent-power",
   "metadata": {},
   "outputs": [],
   "source": [
    "cv_rfc.fit(X.tolist(),y)"
   ]
  },
  {
   "cell_type": "code",
   "execution_count": 37,
   "id": "grand-portland",
   "metadata": {},
   "outputs": [
    {
     "data": {
      "text/plain": [
       "{'bootstrap': False,\n",
       " 'max_depth': 10,\n",
       " 'max_features': 'auto',\n",
       " 'min_samples_leaf': 1,\n",
       " 'min_samples_split': 10,\n",
       " 'n_estimators': 100}"
      ]
     },
     "execution_count": 37,
     "metadata": {},
     "output_type": "execute_result"
    }
   ],
   "source": [
    "cv_rfc.best_params_"
   ]
  },
  {
   "cell_type": "code",
   "execution_count": 67,
   "id": "cognitive-correction",
   "metadata": {},
   "outputs": [],
   "source": [
    "rfc_new = RandomForestClassifier(bootstrap =False, max_depth = 10, max_features = 'auto', min_samples_leaf = 1, min_samples_split = 10, n_estimators = 1200)"
   ]
  },
  {
   "cell_type": "code",
   "execution_count": null,
   "id": "sought-emission",
   "metadata": {},
   "outputs": [],
   "source": []
  },
  {
   "cell_type": "code",
   "execution_count": 68,
   "id": "ade5f19a",
   "metadata": {},
   "outputs": [
    {
     "data": {
      "text/plain": [
       "RandomForestClassifier(bootstrap=False, max_depth=10, min_samples_split=10,\n",
       "                       n_estimators=1200)"
      ]
     },
     "execution_count": 68,
     "metadata": {},
     "output_type": "execute_result"
    }
   ],
   "source": [
    "rfc_new.fit(train_X.tolist(),train_y)\n",
    "# rfc.fit(train_X,train_y)"
   ]
  },
  {
   "cell_type": "code",
   "execution_count": 69,
   "id": "f07e7ea7",
   "metadata": {},
   "outputs": [],
   "source": [
    "rfc_predict = rfc_new.predict(test_X.tolist())\n",
    "# rfc_predict = rfc.predict(test_X)"
   ]
  },
  {
   "cell_type": "code",
   "execution_count": 70,
   "id": "8763fbb0",
   "metadata": {},
   "outputs": [
    {
     "name": "stdout",
     "output_type": "stream",
     "text": [
      "              precision    recall  f1-score   support\n",
      "\n",
      "           0       0.86      0.82      0.84       476\n",
      "           1       0.89      0.91      0.90       736\n",
      "\n",
      "    accuracy                           0.88      1212\n",
      "   macro avg       0.87      0.87      0.87      1212\n",
      "weighted avg       0.87      0.88      0.87      1212\n",
      "\n"
     ]
    }
   ],
   "source": [
    "print(classification_report(test_y, rfc_predict))"
   ]
  },
  {
   "cell_type": "code",
   "execution_count": 71,
   "id": "literary-diabetes",
   "metadata": {},
   "outputs": [
    {
     "data": {
      "text/plain": [
       "0.898861352980576"
      ]
     },
     "execution_count": 71,
     "metadata": {},
     "output_type": "execute_result"
    }
   ],
   "source": [
    "f1_score(test_y, rfc_predict)"
   ]
  },
  {
   "cell_type": "code",
   "execution_count": 62,
   "id": "97212c0b",
   "metadata": {},
   "outputs": [],
   "source": [
    "gfc = GradientBoostingClassifier()"
   ]
  },
  {
   "cell_type": "code",
   "execution_count": 63,
   "id": "61028c59",
   "metadata": {},
   "outputs": [
    {
     "data": {
      "text/plain": [
       "GradientBoostingClassifier()"
      ]
     },
     "execution_count": 63,
     "metadata": {},
     "output_type": "execute_result"
    }
   ],
   "source": [
    "gfc.fit(train_X.tolist(), train_y)\n",
    "# gfc.fit(train_X, train_y)"
   ]
  },
  {
   "cell_type": "code",
   "execution_count": 64,
   "id": "a6f27125",
   "metadata": {},
   "outputs": [],
   "source": [
    "gfc_predict = gfc.predict(test_X.tolist())\n",
    "# gfc_predict = gfc.predict(test_X)"
   ]
  },
  {
   "cell_type": "code",
   "execution_count": 65,
   "id": "257f9352",
   "metadata": {},
   "outputs": [
    {
     "name": "stdout",
     "output_type": "stream",
     "text": [
      "              precision    recall  f1-score   support\n",
      "\n",
      "           0       0.68      0.72      0.70       629\n",
      "           1       0.68      0.64      0.66       580\n",
      "\n",
      "    accuracy                           0.68      1209\n",
      "   macro avg       0.68      0.68      0.68      1209\n",
      "weighted avg       0.68      0.68      0.68      1209\n",
      "\n"
     ]
    }
   ],
   "source": [
    "print(classification_report(test_y, gfc_predict))"
   ]
  },
  {
   "cell_type": "code",
   "execution_count": 66,
   "id": "0b254bad",
   "metadata": {},
   "outputs": [
    {
     "data": {
      "text/plain": [
       "array([0])"
      ]
     },
     "execution_count": 66,
     "metadata": {},
     "output_type": "execute_result"
    }
   ],
   "source": [
    "gfc.predict(np.array(get_bert_embedding_sentence(\"त चोर होस्\").tolist()).reshape(1,-1))"
   ]
  },
  {
   "cell_type": "code",
   "execution_count": 38,
   "id": "0e2f42a7",
   "metadata": {},
   "outputs": [
    {
     "data": {
      "text/plain": [
       "array([0])"
      ]
     },
     "execution_count": 38,
     "metadata": {},
     "output_type": "execute_result"
    }
   ],
   "source": [
    "rfc.predict(np.array(get_bert_embedding_sentence(\"त चोर होस्\").tolist()).reshape(1,-1))"
   ]
  },
  {
   "cell_type": "code",
   "execution_count": 29,
   "id": "b2862c85",
   "metadata": {},
   "outputs": [
    {
     "data": {
      "text/plain": [
       "array([0])"
      ]
     },
     "execution_count": 29,
     "metadata": {},
     "output_type": "execute_result"
    }
   ],
   "source": [
    "# svc.predict(pca.transform(scaler.transform(get_bert_embedding_sentence(\"एस्तो सोच राख्ने मान्छे त मर्नु बरु \").reshape(1,-1))))\n",
    "svc.predict(np.array(get_bert_embedding_sentence(\"कति नराम्रो छ्या\").tolist()).reshape(1,-1))"
   ]
  },
  {
   "cell_type": "code",
   "execution_count": 69,
   "id": "9ee39334",
   "metadata": {},
   "outputs": [
    {
     "data": {
      "text/plain": [
       "'एस्तो सोच राख्ने मान्छे मर्नु'"
      ]
     },
     "execution_count": 69,
     "metadata": {},
     "output_type": "execute_result"
    }
   ],
   "source": [
    "clean_text(\"एस्तो सोच राख्ने मान्छे त मर्नु बरु\")"
   ]
  },
  {
   "cell_type": "code",
   "execution_count": 35,
   "id": "24c1d0b6",
   "metadata": {},
   "outputs": [
    {
     "data": {
      "text/plain": [
       "0.8943758573388204"
      ]
     },
     "execution_count": 35,
     "metadata": {},
     "output_type": "execute_result"
    }
   ],
   "source": [
    "f1_score(test_y,svc_pred)"
   ]
  },
  {
   "cell_type": "code",
   "execution_count": 71,
   "id": "a67963c2",
   "metadata": {},
   "outputs": [
    {
     "data": {
      "text/plain": [
       "0.6096579476861167"
      ]
     },
     "execution_count": 71,
     "metadata": {},
     "output_type": "execute_result"
    }
   ],
   "source": [
    "f1_score(test_y,nb_pred)"
   ]
  },
  {
   "cell_type": "code",
   "execution_count": 72,
   "id": "9aa973c4",
   "metadata": {},
   "outputs": [
    {
     "data": {
      "text/plain": [
       "0.6578249336870027"
      ]
     },
     "execution_count": 72,
     "metadata": {},
     "output_type": "execute_result"
    }
   ],
   "source": [
    "f1_score(test_y,gfc_predict)"
   ]
  },
  {
   "cell_type": "code",
   "execution_count": 11,
   "id": "6470d50d",
   "metadata": {},
   "outputs": [],
   "source": [
    "# f1_score(test_y,rfc_predict)"
   ]
  }
 ],
 "metadata": {
  "kernelspec": {
   "display_name": "Python 3",
   "language": "python",
   "name": "python3"
  },
  "language_info": {
   "codemirror_mode": {
    "name": "ipython",
    "version": 3
   },
   "file_extension": ".py",
   "mimetype": "text/x-python",
   "name": "python",
   "nbconvert_exporter": "python",
   "pygments_lexer": "ipython3",
   "version": "3.8.5"
  }
 },
 "nbformat": 4,
 "nbformat_minor": 5
}
